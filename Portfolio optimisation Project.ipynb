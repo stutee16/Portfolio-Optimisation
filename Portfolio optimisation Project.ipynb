{
 "cells": [
  {
   "cell_type": "code",
   "execution_count": 0,
   "metadata": {
    "application/vnd.databricks.v1+cell": {
     "cellMetadata": {
      "byteLimit": 2048000,
      "rowLimit": 10000
     },
     "inputWidgets": {},
     "nuid": "4d9e5977-bff7-4e28-bdd3-7e876278ae11",
     "showTitle": false,
     "title": ""
    }
   },
   "outputs": [
    {
     "output_type": "stream",
     "name": "stdout",
     "output_type": "stream",
     "text": [
      "root\n |-- Date: timestamp (nullable = true)\n |-- Open: double (nullable = true)\n |-- High: double (nullable = true)\n |-- Low: double (nullable = true)\n |-- Close: double (nullable = true)\n |-- Volume: integer (nullable = true)\n |-- Dividends: double (nullable = true)\n |-- Stock Splits: double (nullable = true)\n\nroot\n |-- Date: timestamp (nullable = true)\n |-- Open: double (nullable = true)\n |-- High: double (nullable = true)\n |-- Low: double (nullable = true)\n |-- Close: double (nullable = true)\n |-- Volume: integer (nullable = true)\n |-- Dividends: double (nullable = true)\n |-- Stock Splits: double (nullable = true)\n\nroot\n |-- Date: timestamp (nullable = true)\n |-- Open: double (nullable = true)\n |-- High: double (nullable = true)\n |-- Low: double (nullable = true)\n |-- Close: double (nullable = true)\n |-- Volume: integer (nullable = true)\n |-- Dividends: double (nullable = true)\n |-- Stock Splits: double (nullable = true)\n\nroot\n |-- Date: timestamp (nullable = true)\n |-- Open: double (nullable = true)\n |-- High: double (nullable = true)\n |-- Low: double (nullable = true)\n |-- Close: double (nullable = true)\n |-- Volume: integer (nullable = true)\n |-- Dividends: double (nullable = true)\n |-- Stock Splits: double (nullable = true)\n\nroot\n |-- Date: timestamp (nullable = true)\n |-- Open: double (nullable = true)\n |-- High: double (nullable = true)\n |-- Low: double (nullable = true)\n |-- Close: double (nullable = true)\n |-- Volume: integer (nullable = true)\n |-- Dividends: double (nullable = true)\n |-- Stock Splits: double (nullable = true)\n\nroot\n |-- Date: timestamp (nullable = true)\n |-- Open: double (nullable = true)\n |-- High: double (nullable = true)\n |-- Low: double (nullable = true)\n |-- Close: double (nullable = true)\n |-- Volume: integer (nullable = true)\n |-- Dividends: double (nullable = true)\n |-- Stock Splits: double (nullable = true)\n\nroot\n |-- Date: timestamp (nullable = true)\n |-- Open: double (nullable = true)\n |-- High: double (nullable = true)\n |-- Low: double (nullable = true)\n |-- Close: double (nullable = true)\n |-- Volume: integer (nullable = true)\n |-- Dividends: double (nullable = true)\n |-- Stock Splits: double (nullable = true)\n\nroot\n |-- Date: timestamp (nullable = true)\n |-- Open: double (nullable = true)\n |-- High: double (nullable = true)\n |-- Low: double (nullable = true)\n |-- Close: double (nullable = true)\n |-- Volume: integer (nullable = true)\n |-- Dividends: double (nullable = true)\n |-- Stock Splits: double (nullable = true)\n\n+-------------------+------------------+------------------+------------------+------------------+---------+---------+------------+\n|               Date|              Open|              High|               Low|             Close|   Volume|Dividends|Stock Splits|\n+-------------------+------------------+------------------+------------------+------------------+---------+---------+------------+\n|2022-09-21 04:00:00|155.61578684622205| 157.0004540088037|151.91678127443095|152.03546142578125|101696800|      0.0|         0.0|\n|2022-09-22 04:00:00|150.71015233325764|152.77724549749323|149.25626008491034| 151.0662078857422| 86652500|      0.0|         0.0|\n|2022-09-23 04:00:00|149.53319061721277| 149.8101210369567|146.93200657650073|148.78150939941406| 96029900|      0.0|         0.0|\n|2022-09-26 04:00:00|148.01996113378675|152.08492248429954|148.00017607726048| 149.1177978515625| 93339400|      0.0|         0.0|\n|2022-09-27 04:00:00| 151.0662413793428|153.02453980640337|148.30680646288627| 150.0969696044922| 84442700|      0.0|         0.0|\n|2022-09-28 04:00:00|146.02210942296236|148.98923438963723|143.25278976908356|  148.197998046875|146691400|      0.0|         0.0|\n|2022-09-29 04:00:00|144.49898091970792| 145.1121818701946|  139.138362273848|140.91864013671875|128138200|      0.0|         0.0|\n|2022-09-30 04:00:00| 139.7317812323689| 141.5318439975613| 136.4877263354891|136.68553161621094|124925300|      0.0|         0.0|\n|2022-10-03 04:00:00| 136.6954353972789|141.50217779790998| 136.1811295801925| 140.8889617919922|114311700|      0.0|         0.0|\n|2022-10-04 04:00:00|143.44069595011095| 144.6176578187889|142.67912972480582| 144.4989776611328| 87830100|      0.0|         0.0|\n+-------------------+------------------+------------------+------------------+------------------+---------+---------+------------+\nonly showing top 10 rows\n\n"
     ]
    }
   ],
   "source": [
    "from pyspark.sql import SparkSession\n",
    "\n",
    "spark = SparkSession.builder.appName(\"PortfolioOptimization\").getOrCreate()\n",
    "\n",
    "\n",
    "apple = spark.read.format(\"csv\").option(\"header\", \"true\").option(\"inferSchema\", \"true\").load(\"dbfs:/FileStore/shared_uploads/stuti.dce21@sot.pdpu.ac.in/AAPL_data-2.csv\")\n",
    "amazon = spark.read.format(\"csv\").option(\"header\", \"true\").option(\"inferSchema\", \"true\").load(\"dbfs:/FileStore/shared_uploads/stuti.dce21@sot.pdpu.ac.in/AMZN_data-2.csv\")\n",
    "google = spark.read.format(\"csv\").option(\"header\", \"true\").option(\"inferSchema\", \"true\").load(\"dbfs:/FileStore/shared_uploads/stuti.dce21@sot.pdpu.ac.in/GOOGL_data-2.csv\")\n",
    "goldman_sachs = spark.read.format(\"csv\").option(\"header\", \"true\").option(\"inferSchema\", \"true\").load(\"dbfs:/FileStore/shared_uploads/stuti.dce21@sot.pdpu.ac.in/GS_data-2.csv\")\n",
    "jp_morgan = spark.read.format(\"csv\").option(\"header\", \"true\").option(\"inferSchema\", \"true\").load(\"dbfs:/FileStore/shared_uploads/stuti.dce21@sot.pdpu.ac.in/JPM_data-2.csv\")\n",
    "meta = spark.read.format(\"csv\").option(\"header\", \"true\").option(\"inferSchema\", \"true\").load(\"dbfs:/FileStore/shared_uploads/stuti.dce21@sot.pdpu.ac.in/META_data-2.csv\")\n",
    "microsoft = spark.read.format(\"csv\").option(\"header\", \"true\").option(\"inferSchema\", \"true\").load(\"dbfs:/FileStore/shared_uploads/stuti.dce21@sot.pdpu.ac.in/MSFT_data-2.csv\")\n",
    "walmart = spark.read.format(\"csv\").option(\"header\", \"true\").option(\"inferSchema\", \"true\").load(\"dbfs:/FileStore/shared_uploads/stuti.dce21@sot.pdpu.ac.in/WMT_data-2.csv\")\n",
    "\n",
    "# Show the schema of each DataFrame to verify the data\n",
    "apple.printSchema()\n",
    "amazon.printSchema()\n",
    "google.printSchema()\n",
    "goldman_sachs.printSchema()\n",
    "jp_morgan.printSchema()\n",
    "meta.printSchema()\n",
    "microsoft.printSchema()\n",
    "walmart.printSchema()\n",
    "\n",
    "\n",
    "apple.show(10)\n"
   ]
  },
  {
   "cell_type": "code",
   "execution_count": 0,
   "metadata": {
    "application/vnd.databricks.v1+cell": {
     "cellMetadata": {
      "byteLimit": 2048000,
      "rowLimit": 10000
     },
     "inputWidgets": {},
     "nuid": "7d845175-42d6-4226-b795-87f453d17c60",
     "showTitle": false,
     "title": ""
    }
   },
   "outputs": [],
   "source": [
    "# Register the DataFrames as SQL views\n",
    "apple.createOrReplaceTempView(\"apple\")\n",
    "amazon.createOrReplaceTempView(\"amazon\")\n",
    "google.createOrReplaceTempView(\"google\")\n",
    "goldman_sachs.createOrReplaceTempView(\"goldman_sachs\")\n",
    "jp_morgan.createOrReplaceTempView(\"jp_morgan\")\n",
    "meta.createOrReplaceTempView(\"meta\")\n",
    "microsoft.createOrReplaceTempView(\"microsoft\")\n",
    "walmart.createOrReplaceTempView(\"walmart\")\n"
   ]
  },
  {
   "cell_type": "code",
   "execution_count": 0,
   "metadata": {
    "application/vnd.databricks.v1+cell": {
     "cellMetadata": {
      "byteLimit": 2048000,
      "rowLimit": 10000
     },
     "inputWidgets": {},
     "nuid": "aa5d39f3-4eb7-487b-9ff1-3bac1b5ce327",
     "showTitle": false,
     "title": ""
    }
   },
   "outputs": [],
   "source": [
    "# daily returns for Apple\n",
    "apple_daily_returns = spark.sql(\"\"\"\n",
    "    SELECT Date, \n",
    "           Close, \n",
    "           LAG(Close, 1) OVER (ORDER BY Date) AS Previous_Close, \n",
    "           (Close - LAG(Close, 1) OVER (ORDER BY Date)) / LAG(Close, 1) OVER (ORDER BY Date) AS Daily_Return\n",
    "    FROM apple\n",
    "\"\"\")\n",
    "apple_daily_returns.createOrReplaceTempView(\"apple_daily_returns\")\n"
   ]
  },
  {
   "cell_type": "code",
   "execution_count": 0,
   "metadata": {
    "application/vnd.databricks.v1+cell": {
     "cellMetadata": {
      "byteLimit": 2048000,
      "rowLimit": 10000
     },
     "inputWidgets": {},
     "nuid": "16bb2ef4-9a95-4941-bd8e-8bab9d13a106",
     "showTitle": false,
     "title": ""
    }
   },
   "outputs": [
    {
     "output_type": "stream",
     "name": "stdout",
     "output_type": "stream",
     "text": [
      "Out[9]: DataFrame[]"
     ]
    }
   ],
   "source": [
    "# Amazon daily returns\n",
    "spark.sql(\"\"\"\n",
    "    CREATE OR REPLACE TEMP VIEW amazon_daily_returns AS\n",
    "    SELECT Date, \n",
    "           Close, \n",
    "           LAG(Close, 1) OVER (ORDER BY Date) AS Previous_Close, \n",
    "           (Close - LAG(Close, 1) OVER (ORDER BY Date)) / LAG(Close, 1) OVER (ORDER BY Date) AS Daily_Return\n",
    "    FROM amazon\n",
    "\"\"\")\n"
   ]
  },
  {
   "cell_type": "code",
   "execution_count": 0,
   "metadata": {
    "application/vnd.databricks.v1+cell": {
     "cellMetadata": {
      "byteLimit": 2048000,
      "rowLimit": 10000
     },
     "inputWidgets": {},
     "nuid": "17bb0613-d79d-47ab-82b1-93e0d4d6189d",
     "showTitle": false,
     "title": ""
    }
   },
   "outputs": [
    {
     "output_type": "stream",
     "name": "stdout",
     "output_type": "stream",
     "text": [
      "Out[10]: DataFrame[]"
     ]
    }
   ],
   "source": [
    "# Google daily returns\n",
    "spark.sql(\"\"\"\n",
    "    CREATE OR REPLACE TEMP VIEW google_daily_returns AS\n",
    "    SELECT Date, \n",
    "           Close, \n",
    "           LAG(Close, 1) OVER (ORDER BY Date) AS Previous_Close, \n",
    "           (Close - LAG(Close, 1) OVER (ORDER BY Date)) / LAG(Close, 1) OVER (ORDER BY Date) AS Daily_Return\n",
    "    FROM google\n",
    "\"\"\")\n"
   ]
  },
  {
   "cell_type": "code",
   "execution_count": 0,
   "metadata": {
    "application/vnd.databricks.v1+cell": {
     "cellMetadata": {
      "byteLimit": 2048000,
      "rowLimit": 10000
     },
     "inputWidgets": {},
     "nuid": "930fc0d5-212f-4a26-9a40-7db888faab1e",
     "showTitle": false,
     "title": ""
    }
   },
   "outputs": [
    {
     "output_type": "stream",
     "name": "stdout",
     "output_type": "stream",
     "text": [
      "Out[11]: DataFrame[]"
     ]
    }
   ],
   "source": [
    "# Goldman Sachs daily returns\n",
    "spark.sql(\"\"\"\n",
    "    CREATE OR REPLACE TEMP VIEW goldman_sachs_daily_returns AS\n",
    "    SELECT Date, \n",
    "           Close, \n",
    "           LAG(Close, 1) OVER (ORDER BY Date) AS Previous_Close, \n",
    "           (Close - LAG(Close, 1) OVER (ORDER BY Date)) / LAG(Close, 1) OVER (ORDER BY Date) AS Daily_Return\n",
    "    FROM goldman_sachs\n",
    "\"\"\")\n"
   ]
  },
  {
   "cell_type": "code",
   "execution_count": 0,
   "metadata": {
    "application/vnd.databricks.v1+cell": {
     "cellMetadata": {
      "byteLimit": 2048000,
      "rowLimit": 10000
     },
     "inputWidgets": {},
     "nuid": "4a386028-5f41-4f3e-8aed-d66e9cd376e1",
     "showTitle": false,
     "title": ""
    }
   },
   "outputs": [
    {
     "output_type": "stream",
     "name": "stdout",
     "output_type": "stream",
     "text": [
      "Out[12]: DataFrame[]"
     ]
    }
   ],
   "source": [
    "# JP Morgan daily returns\n",
    "spark.sql(\"\"\"\n",
    "    CREATE OR REPLACE TEMP VIEW jp_morgan_daily_returns AS\n",
    "    SELECT Date, \n",
    "           Close, \n",
    "           LAG(Close, 1) OVER (ORDER BY Date) AS Previous_Close, \n",
    "           (Close - LAG(Close, 1) OVER (ORDER BY Date)) / LAG(Close, 1) OVER (ORDER BY Date) AS Daily_Return\n",
    "    FROM jp_morgan\n",
    "\"\"\")\n"
   ]
  },
  {
   "cell_type": "code",
   "execution_count": 0,
   "metadata": {
    "application/vnd.databricks.v1+cell": {
     "cellMetadata": {
      "byteLimit": 2048000,
      "rowLimit": 10000
     },
     "inputWidgets": {},
     "nuid": "71fe9f64-a72d-4c75-998e-677fce5f92e5",
     "showTitle": false,
     "title": ""
    }
   },
   "outputs": [
    {
     "output_type": "stream",
     "name": "stdout",
     "output_type": "stream",
     "text": [
      "Out[13]: DataFrame[]"
     ]
    }
   ],
   "source": [
    "# Meta daily returns\n",
    "spark.sql(\"\"\"\n",
    "    CREATE OR REPLACE TEMP VIEW meta_daily_returns AS\n",
    "    SELECT Date, \n",
    "           Close, \n",
    "           LAG(Close, 1) OVER (ORDER BY Date) AS Previous_Close, \n",
    "           (Close - LAG(Close, 1) OVER (ORDER BY Date)) / LAG(Close, 1) OVER (ORDER BY Date) AS Daily_Return\n",
    "    FROM meta\n",
    "\"\"\")\n"
   ]
  },
  {
   "cell_type": "code",
   "execution_count": 0,
   "metadata": {
    "application/vnd.databricks.v1+cell": {
     "cellMetadata": {
      "byteLimit": 2048000,
      "rowLimit": 10000
     },
     "inputWidgets": {},
     "nuid": "2d60b158-e39f-45f8-a56b-589371776c1a",
     "showTitle": false,
     "title": ""
    }
   },
   "outputs": [
    {
     "output_type": "stream",
     "name": "stdout",
     "output_type": "stream",
     "text": [
      "Out[14]: DataFrame[]"
     ]
    }
   ],
   "source": [
    "# Microsoft daily returns\n",
    "spark.sql(\"\"\"\n",
    "    CREATE OR REPLACE TEMP VIEW microsoft_daily_returns AS\n",
    "    SELECT Date, \n",
    "           Close, \n",
    "           LAG(Close, 1) OVER (ORDER BY Date) AS Previous_Close, \n",
    "           (Close - LAG(Close, 1) OVER (ORDER BY Date)) / LAG(Close, 1) OVER (ORDER BY Date) AS Daily_Return\n",
    "    FROM microsoft\n",
    "\"\"\")\n"
   ]
  },
  {
   "cell_type": "code",
   "execution_count": 0,
   "metadata": {
    "application/vnd.databricks.v1+cell": {
     "cellMetadata": {
      "byteLimit": 2048000,
      "rowLimit": 10000
     },
     "inputWidgets": {},
     "nuid": "5df75c82-61de-4e60-96f4-39b6d3ce5965",
     "showTitle": false,
     "title": ""
    }
   },
   "outputs": [
    {
     "output_type": "stream",
     "name": "stdout",
     "output_type": "stream",
     "text": [
      "Out[15]: DataFrame[]"
     ]
    }
   ],
   "source": [
    "# Walmart daily returns\n",
    "spark.sql(\"\"\"\n",
    "    CREATE OR REPLACE TEMP VIEW walmart_daily_returns AS\n",
    "    SELECT Date, \n",
    "           Close, \n",
    "           LAG(Close, 1) OVER (ORDER BY Date) AS Previous_Close, \n",
    "           (Close - LAG(Close, 1) OVER (ORDER BY Date)) / LAG(Close, 1) OVER (ORDER BY Date) AS Daily_Return\n",
    "    FROM walmart\n",
    "\"\"\")\n"
   ]
  },
  {
   "cell_type": "code",
   "execution_count": 0,
   "metadata": {
    "application/vnd.databricks.v1+cell": {
     "cellMetadata": {
      "byteLimit": 2048000,
      "rowLimit": 10000
     },
     "inputWidgets": {},
     "nuid": "770ac355-6d96-4cae-91d7-6bc0b3e21f60",
     "showTitle": false,
     "title": ""
    }
   },
   "outputs": [
    {
     "output_type": "stream",
     "name": "stdout",
     "output_type": "stream",
     "text": [
      "+-------------------+--------------------+\n|         Volatility|     Expected_Return|\n+-------------------+--------------------+\n|0.01598173720881799|9.360126460841513E-4|\n+-------------------+--------------------+\n\n"
     ]
    }
   ],
   "source": [
    "# Apple Volatility and Expected Return\n",
    "spark.sql(\"\"\"\n",
    "    SELECT \n",
    "        STDDEV(Daily_Return) AS Volatility, \n",
    "        AVG(Daily_Return) AS Expected_Return\n",
    "    FROM apple_daily_returns\n",
    "    WHERE Daily_Return IS NOT NULL\n",
    "\"\"\").show()\n"
   ]
  },
  {
   "cell_type": "code",
   "execution_count": 0,
   "metadata": {
    "application/vnd.databricks.v1+cell": {
     "cellMetadata": {
      "byteLimit": 2048000,
      "rowLimit": 10000
     },
     "inputWidgets": {},
     "nuid": "59a9d5e2-03d5-4784-9683-1b9f11e19ac2",
     "showTitle": false,
     "title": ""
    }
   },
   "outputs": [
    {
     "output_type": "stream",
     "name": "stdout",
     "output_type": "stream",
     "text": [
      "+--------------------+--------------------+\n|          Volatility|     Expected_Return|\n+--------------------+--------------------+\n|0.021403600379457103|0.001184571635460175|\n+--------------------+--------------------+\n\n"
     ]
    }
   ],
   "source": [
    "# Amazon Volatility and Expected Return\n",
    "spark.sql(\"\"\"\n",
    "    SELECT \n",
    "        STDDEV(Daily_Return) AS Volatility, \n",
    "        AVG(Daily_Return) AS Expected_Return\n",
    "    FROM amazon_daily_returns\n",
    "    WHERE Daily_Return IS NOT NULL\n",
    "\"\"\").show()\n"
   ]
  },
  {
   "cell_type": "code",
   "execution_count": 0,
   "metadata": {
    "application/vnd.databricks.v1+cell": {
     "cellMetadata": {
      "byteLimit": 2048000,
      "rowLimit": 10000
     },
     "inputWidgets": {},
     "nuid": "05b08082-80fb-45f3-ae8b-53be5bde5dc6",
     "showTitle": false,
     "title": ""
    }
   },
   "outputs": [
    {
     "output_type": "stream",
     "name": "stdout",
     "output_type": "stream",
     "text": [
      "+--------------------+--------------------+\n|          Volatility|     Expected_Return|\n+--------------------+--------------------+\n|0.019666938257297286|0.001193634162182...|\n+--------------------+--------------------+\n\n"
     ]
    }
   ],
   "source": [
    "# Google Volatility and Expected Return\n",
    "spark.sql(\"\"\"\n",
    "    SELECT \n",
    "        STDDEV(Daily_Return) AS Volatility, \n",
    "        AVG(Daily_Return) AS Expected_Return\n",
    "    FROM google_daily_returns\n",
    "    WHERE Daily_Return IS NOT NULL\n",
    "\"\"\").show()\n"
   ]
  },
  {
   "cell_type": "code",
   "execution_count": 0,
   "metadata": {
    "application/vnd.databricks.v1+cell": {
     "cellMetadata": {
      "byteLimit": 2048000,
      "rowLimit": 10000
     },
     "inputWidgets": {},
     "nuid": "790a8558-ebf8-4ed9-a055-e6d162ed61e1",
     "showTitle": false,
     "title": ""
    }
   },
   "outputs": [
    {
     "output_type": "stream",
     "name": "stdout",
     "output_type": "stream",
     "text": [
      "+--------------------+--------------------+\n|          Volatility|     Expected_Return|\n+--------------------+--------------------+\n|0.015273096084392241|0.001108314274702...|\n+--------------------+--------------------+\n\n"
     ]
    }
   ],
   "source": [
    "# Goldman Sachs Volatility and Expected Return\n",
    "spark.sql(\"\"\"\n",
    "    SELECT \n",
    "        STDDEV(Daily_Return) AS Volatility, \n",
    "        AVG(Daily_Return) AS Expected_Return\n",
    "    FROM goldman_sachs_daily_returns\n",
    "    WHERE Daily_Return IS NOT NULL\n",
    "\"\"\").show()\n"
   ]
  },
  {
   "cell_type": "code",
   "execution_count": 0,
   "metadata": {
    "application/vnd.databricks.v1+cell": {
     "cellMetadata": {
      "byteLimit": 2048000,
      "rowLimit": 10000
     },
     "inputWidgets": {},
     "nuid": "d75986ba-3645-4afe-bb03-bb8577d1bd9e",
     "showTitle": false,
     "title": ""
    }
   },
   "outputs": [
    {
     "output_type": "stream",
     "name": "stdout",
     "output_type": "stream",
     "text": [
      "+--------------------+--------------------+\n|          Volatility|     Expected_Return|\n+--------------------+--------------------+\n|0.013889226184102679|0.001462145638687...|\n+--------------------+--------------------+\n\n"
     ]
    }
   ],
   "source": [
    "# JP Morgan Volatility and Expected Return\n",
    "spark.sql(\"\"\"\n",
    "    SELECT \n",
    "        STDDEV(Daily_Return) AS Volatility, \n",
    "        AVG(Daily_Return) AS Expected_Return\n",
    "    FROM jp_morgan_daily_returns\n",
    "    WHERE Daily_Return IS NOT NULL\n",
    "\"\"\").show()\n"
   ]
  },
  {
   "cell_type": "code",
   "execution_count": 0,
   "metadata": {
    "application/vnd.databricks.v1+cell": {
     "cellMetadata": {
      "byteLimit": 2048000,
      "rowLimit": 10000
     },
     "inputWidgets": {},
     "nuid": "f6c80b67-4365-44a1-9655-b56873c848bd",
     "showTitle": false,
     "title": ""
    }
   },
   "outputs": [
    {
     "output_type": "stream",
     "name": "stdout",
     "output_type": "stream",
     "text": [
      "+-------------------+--------------------+\n|         Volatility|     Expected_Return|\n+-------------------+--------------------+\n|0.02849261452143986|0.003150042332874871|\n+-------------------+--------------------+\n\n"
     ]
    }
   ],
   "source": [
    "# Meta Volatility and Expected Return\n",
    "spark.sql(\"\"\"\n",
    "    SELECT \n",
    "        STDDEV(Daily_Return) AS Volatility, \n",
    "        AVG(Daily_Return) AS Expected_Return\n",
    "    FROM meta_daily_returns\n",
    "    WHERE Daily_Return IS NOT NULL\n",
    "\"\"\").show()\n"
   ]
  },
  {
   "cell_type": "code",
   "execution_count": 0,
   "metadata": {
    "application/vnd.databricks.v1+cell": {
     "cellMetadata": {
      "byteLimit": 2048000,
      "rowLimit": 10000
     },
     "inputWidgets": {},
     "nuid": "915c3795-53ad-480c-85c5-bcf98180cca6",
     "showTitle": false,
     "title": ""
    }
   },
   "outputs": [
    {
     "output_type": "stream",
     "name": "stdout",
     "output_type": "stream",
     "text": [
      "+--------------------+--------------------+\n|          Volatility|     Expected_Return|\n+--------------------+--------------------+\n|0.016273956891685558|0.001361204192270...|\n+--------------------+--------------------+\n\n"
     ]
    }
   ],
   "source": [
    "# Microsoft Volatility and Expected Return\n",
    "spark.sql(\"\"\"\n",
    "    SELECT \n",
    "        STDDEV(Daily_Return) AS Volatility, \n",
    "        AVG(Daily_Return) AS Expected_Return\n",
    "    FROM microsoft_daily_returns\n",
    "    WHERE Daily_Return IS NOT NULL\n",
    "\"\"\").show()\n"
   ]
  },
  {
   "cell_type": "code",
   "execution_count": 0,
   "metadata": {
    "application/vnd.databricks.v1+cell": {
     "cellMetadata": {
      "byteLimit": 2048000,
      "rowLimit": 10000
     },
     "inputWidgets": {},
     "nuid": "803a2dc1-6cec-48c5-a322-0d42113e23b3",
     "showTitle": false,
     "title": ""
    }
   },
   "outputs": [
    {
     "output_type": "stream",
     "name": "stdout",
     "output_type": "stream",
     "text": [
      "+--------------------+--------------------+\n|          Volatility|     Expected_Return|\n+--------------------+--------------------+\n|0.011091340785161441|0.001244903661003...|\n+--------------------+--------------------+\n\n"
     ]
    }
   ],
   "source": [
    "# Walmart Volatility and Expected Return\n",
    "spark.sql(\"\"\"\n",
    "    SELECT \n",
    "        STDDEV(Daily_Return) AS Volatility, \n",
    "        AVG(Daily_Return) AS Expected_Return\n",
    "    FROM walmart_daily_returns\n",
    "    WHERE Daily_Return IS NOT NULL\n",
    "\"\"\").show()\n"
   ]
  },
  {
   "cell_type": "code",
   "execution_count": 0,
   "metadata": {
    "application/vnd.databricks.v1+cell": {
     "cellMetadata": {
      "byteLimit": 2048000,
      "rowLimit": 10000
     },
     "inputWidgets": {},
     "nuid": "a96cb503-4260-4c57-8e3a-ea73c4de5302",
     "showTitle": false,
     "title": ""
    }
   },
   "outputs": [
    {
     "output_type": "stream",
     "name": "stdout",
     "output_type": "stream",
     "text": [
      "Out[24]: DataFrame[]"
     ]
    }
   ],
   "source": [
    "# Create a combined view of daily returns\n",
    "spark.sql(\"\"\"\n",
    "    CREATE OR REPLACE TEMP VIEW combined_daily_returns AS\n",
    "    SELECT a.Date,\n",
    "           a.Daily_Return AS Apple_Return,\n",
    "           amzn.Daily_Return AS Amazon_Return,\n",
    "           goog.Daily_Return AS Google_Return,\n",
    "           gs.Daily_Return AS Goldman_Sachs_Return,\n",
    "           jpm.Daily_Return AS JP_Morgan_Return,\n",
    "           meta.Daily_Return AS Meta_Return,\n",
    "           msft.Daily_Return AS Microsoft_Return,\n",
    "           wmt.Daily_Return AS Walmart_Return\n",
    "    FROM apple_daily_returns a\n",
    "    LEFT JOIN amazon_daily_returns amzn ON a.Date = amzn.Date\n",
    "    LEFT JOIN google_daily_returns goog ON a.Date = goog.Date\n",
    "    LEFT JOIN goldman_sachs_daily_returns gs ON a.Date = gs.Date\n",
    "    LEFT JOIN jp_morgan_daily_returns jpm ON a.Date = jpm.Date\n",
    "    LEFT JOIN meta_daily_returns meta ON a.Date = meta.Date\n",
    "    LEFT JOIN microsoft_daily_returns msft ON a.Date = msft.Date\n",
    "    LEFT JOIN walmart_daily_returns wmt ON a.Date = wmt.Date\n",
    "\"\"\")\n"
   ]
  },
  {
   "cell_type": "code",
   "execution_count": 0,
   "metadata": {
    "application/vnd.databricks.v1+cell": {
     "cellMetadata": {
      "byteLimit": 2048000,
      "rowLimit": 10000
     },
     "inputWidgets": {},
     "nuid": "341fa9ea-1f59-4663-9b38-202fe43a8bc4",
     "showTitle": false,
     "title": ""
    }
   },
   "outputs": [
    {
     "output_type": "stream",
     "name": "stdout",
     "output_type": "stream",
     "text": [
      "+--------------------+--------------------+--------------------+-------------------------+---------------------+--------------------+---------------------+--------------------+\n|   Apple_Mean_Return|  Amazon_Mean_Return|  Google_Mean_Return|Goldman_Sachs_Mean_Return|JP_Morgan_Mean_Return|    Meta_Mean_Return|Microsoft_Mean_Return| Walmart_Mean_Return|\n+--------------------+--------------------+--------------------+-------------------------+---------------------+--------------------+---------------------+--------------------+\n|9.360126460841513E-4|0.001184571635460175|0.001193634162182...|     0.001108314274702...| 0.001462145638687...|0.003150042332874871| 0.001361204192270...|0.001244903661003...|\n+--------------------+--------------------+--------------------+-------------------------+---------------------+--------------------+---------------------+--------------------+\n\n"
     ]
    }
   ],
   "source": [
    "# Calculate the mean returns for each company\n",
    "spark.sql(\"\"\"\n",
    "    SELECT \n",
    "        AVG(Apple_Return) AS Apple_Mean_Return,\n",
    "        AVG(Amazon_Return) AS Amazon_Mean_Return,\n",
    "        AVG(Google_Return) AS Google_Mean_Return,\n",
    "        AVG(Goldman_Sachs_Return) AS Goldman_Sachs_Mean_Return,\n",
    "        AVG(JP_Morgan_Return) AS JP_Morgan_Mean_Return,\n",
    "        AVG(Meta_Return) AS Meta_Mean_Return,\n",
    "        AVG(Microsoft_Return) AS Microsoft_Mean_Return,\n",
    "        AVG(Walmart_Return) AS Walmart_Mean_Return\n",
    "    FROM combined_daily_returns\n",
    "    WHERE Apple_Return IS NOT NULL\n",
    "\"\"\").show()\n"
   ]
  },
  {
   "cell_type": "code",
   "execution_count": 0,
   "metadata": {
    "application/vnd.databricks.v1+cell": {
     "cellMetadata": {
      "byteLimit": 2048000,
      "rowLimit": 10000
     },
     "inputWidgets": {},
     "nuid": "dd9d94d0-85b7-4988-a21a-dae966c1d820",
     "showTitle": false,
     "title": ""
    }
   },
   "outputs": [
    {
     "output_type": "stream",
     "name": "stdout",
     "output_type": "stream",
     "text": [
      "+--------------------+--------------------+--------------------+-----------------------+--------------------+--------------------+--------------------+--------------------+\n|     Apple_Apple_Cov|    Apple_Amazon_Cov|    Apple_Google_Cov|Apple_Goldman_Sachs_Cov| Apple_JP_Morgan_Cov|      Apple_Meta_Cov| Apple_Microsoft_Cov|   Apple_Walmart_Cov|\n+--------------------+--------------------+--------------------+-----------------------+--------------------+--------------------+--------------------+--------------------+\n|2.554159242117174E-4|1.600816561957446...|1.739934423443423...|   7.369646056403019E-5|5.783019067224182...|1.937740446508034...|1.577633275376198...|3.686535731082984E-5|\n+--------------------+--------------------+--------------------+-----------------------+--------------------+--------------------+--------------------+--------------------+\n\n"
     ]
    }
   ],
   "source": [
    "# Calculate the covariance matrix\n",
    "spark.sql(\"\"\"\n",
    "    SELECT \n",
    "        COVAR_SAMP(Apple_Return, Apple_Return) AS Apple_Apple_Cov,\n",
    "        COVAR_SAMP(Apple_Return, Amazon_Return) AS Apple_Amazon_Cov,\n",
    "        COVAR_SAMP(Apple_Return, Google_Return) AS Apple_Google_Cov,\n",
    "        COVAR_SAMP(Apple_Return, Goldman_Sachs_Return) AS Apple_Goldman_Sachs_Cov,\n",
    "        COVAR_SAMP(Apple_Return, JP_Morgan_Return) AS Apple_JP_Morgan_Cov,\n",
    "        COVAR_SAMP(Apple_Return, Meta_Return) AS Apple_Meta_Cov,\n",
    "        COVAR_SAMP(Apple_Return, Microsoft_Return) AS Apple_Microsoft_Cov,\n",
    "        COVAR_SAMP(Apple_Return, Walmart_Return) AS Apple_Walmart_Cov\n",
    "    FROM combined_daily_returns\n",
    "    WHERE Apple_Return IS NOT NULL\n",
    "\"\"\").show()\n"
   ]
  },
  {
   "cell_type": "code",
   "execution_count": 0,
   "metadata": {
    "application/vnd.databricks.v1+cell": {
     "cellMetadata": {
      "byteLimit": 2048000,
      "rowLimit": 10000
     },
     "inputWidgets": {},
     "nuid": "65d92d61-351f-4bbd-906d-1a37c5d56dbb",
     "showTitle": false,
     "title": ""
    }
   },
   "outputs": [
    {
     "output_type": "stream",
     "name": "stdout",
     "output_type": "stream",
     "text": [
      "+-------------------------+--------------------+\n|Portfolio_Expected_Return|Portfolio_Volatility|\n+-------------------------+--------------------+\n|     0.001455103567908286|0.018460041838455395|\n+-------------------------+--------------------+\n\n"
     ]
    }
   ],
   "source": [
    "# Calculate the equal-weighted portfolio return and volatility\n",
    "spark.sql(\"\"\"\n",
    "    SELECT \n",
    "        (AVG(Apple_Return) + AVG(Amazon_Return) + AVG(Google_Return) + AVG(Goldman_Sachs_Return) +\n",
    "         AVG(JP_Morgan_Return) + AVG(Meta_Return) + AVG(Microsoft_Return) + AVG(Walmart_Return)) / 8 AS Portfolio_Expected_Return,\n",
    "        SQRT(\n",
    "            (VAR_SAMP(Apple_Return) + VAR_SAMP(Amazon_Return) + VAR_SAMP(Google_Return) + VAR_SAMP(Goldman_Sachs_Return) +\n",
    "            VAR_SAMP(JP_Morgan_Return) + VAR_SAMP(Meta_Return) + VAR_SAMP(Microsoft_Return) + VAR_SAMP(Walmart_Return)) / 8\n",
    "        ) AS Portfolio_Volatility\n",
    "    FROM combined_daily_returns\n",
    "    WHERE Apple_Return IS NOT NULL\n",
    "\"\"\").show()\n"
   ]
  },
  {
   "cell_type": "code",
   "execution_count": 0,
   "metadata": {
    "application/vnd.databricks.v1+cell": {
     "cellMetadata": {},
     "inputWidgets": {},
     "nuid": "c74f4561-b348-4747-a79e-94c0d767a719",
     "showTitle": false,
     "title": ""
    }
   },
   "outputs": [],
   "source": []
  }
 ],
 "metadata": {
  "application/vnd.databricks.v1+notebook": {
   "dashboards": [],
   "environmentMetadata": null,
   "language": "python",
   "notebookMetadata": {
    "mostRecentlyExecutedCommandWithImplicitDF": {
     "commandId": 3506128385286583,
     "dataframes": [
      "_sqldf"
     ]
    },
    "pythonIndentUnit": 4
   },
   "notebookName": "Portfolio optimisation Project",
   "widgets": {}
  }
 },
 "nbformat": 4,
 "nbformat_minor": 0
}
